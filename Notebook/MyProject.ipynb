{
 "cells": [
  {
   "cell_type": "code",
   "execution_count": 12,
   "id": "1be10d07-65c0-43f6-abce-1451c8b833ce",
   "metadata": {},
   "outputs": [],
   "source": [
    "#Импортируем нужные библиотеки\n",
    "import numpy as np\n",
    "import pandas as pd\n",
    "import sklearn\n",
    "from sklearn.model_selection import train_test_split, GridSearchCV\n",
    "from sklearn.metrics import mean_squared_error, r2_score \n",
    "from sklearn.preprocessing import MinMaxScaler\n",
    "from sklearn.ensemble import RandomForestRegressor\n",
    "import pickle"
   ]
  },
  {
   "cell_type": "code",
   "execution_count": 14,
   "id": "d19dd136-6136-4509-b69e-38732ff2f364",
   "metadata": {},
   "outputs": [],
   "source": [
    "df = pd.read_csv(\"offers.csv\")"
   ]
  },
  {
   "cell_type": "code",
   "execution_count": 16,
   "id": "151dfe02-4cd4-4285-a594-4289cf284e81",
   "metadata": {},
   "outputs": [],
   "source": [
    "df_x =df[['rooms', 'area', 'floor', 'total_floors','furniture','property_type']]\n",
    "df_y = df[['predicted_price']]"
   ]
  },
  {
   "cell_type": "code",
   "execution_count": 18,
   "id": "82d9a5f5-3e9c-418e-b533-173a599626af",
   "metadata": {},
   "outputs": [],
   "source": [
    "scaler_x = MinMaxScaler()\n",
    "scaler_y = MinMaxScaler()\n",
    "scaled_x = scaler_x.fit_transform(df_x)\n",
    "scaled_y = scaler_y.fit_transform(df_y)"
   ]
  },
  {
   "cell_type": "code",
   "execution_count": 20,
   "id": "6f66e97f-dc90-4271-b036-81aae2878c86",
   "metadata": {},
   "outputs": [],
   "source": [
    "X_train, X_test, y_train, y_test = train_test_split(scaled_x, scaled_y[:, 0], test_size = 0.2, random_state=42)"
   ]
  },
  {
   "cell_type": "code",
   "execution_count": 22,
   "id": "075cf4ea-b6ab-4eda-9c27-685718a20633",
   "metadata": {},
   "outputs": [],
   "source": [
    "model = RandomForestRegressor(random_state=42)\n",
    "params = {\n",
    "    'n_estimators': [100, 200],\n",
    "    'max_depth': [None, 10, 20],\n",
    "    'min_samples_split': [2, 5]\n",
    "}"
   ]
  },
  {
   "cell_type": "code",
   "execution_count": 24,
   "id": "c902fe24-54ab-4c3f-9d4b-d5239679a0e0",
   "metadata": {},
   "outputs": [
    {
     "data": {
      "text/plain": [
       "(0.003329257544403645, 0.8207439386627488)"
      ]
     },
     "execution_count": 24,
     "metadata": {},
     "output_type": "execute_result"
    }
   ],
   "source": [
    "grid_search = GridSearchCV(model, params, cv=5, scoring='r2')\n",
    "grid_search.fit(X_train, y_train)\n",
    "\n",
    "best_model = grid_search.best_estimator_\n",
    "y_pred = best_model.predict(X_test)\n",
    "\n",
    "# Оценка модели\n",
    "mse = mean_squared_error(y_test, y_pred)\n",
    "r2 = r2_score(y_test, y_pred)\n",
    "mse,r2"
   ]
  },
  {
   "cell_type": "code",
   "execution_count": 26,
   "id": "2881dc5c-b567-4c9a-a7ef-5a0e52abe4a3",
   "metadata": {},
   "outputs": [],
   "source": [
    "with open(\"model.pkl\", \"wb\") as f:\n",
    "    pickle.dump(best_model, f)\n",
    "with open(\"scaler_x.pkl\", \"wb\") as f:\n",
    "    pickle.dump(scaler_x, f)\n",
    "with open(\"scaler_y.pkl\", \"wb\") as f:\n",
    "    pickle.dump(scaler_y, f)"
   ]
  },
  {
   "cell_type": "code",
   "execution_count": null,
   "id": "d8013dad-c023-4536-be25-b4c92b6dd63b",
   "metadata": {},
   "outputs": [],
   "source": []
  }
 ],
 "metadata": {
  "kernelspec": {
   "display_name": "Python 3 (ipykernel)",
   "language": "python",
   "name": "python3"
  },
  "language_info": {
   "codemirror_mode": {
    "name": "ipython",
    "version": 3
   },
   "file_extension": ".py",
   "mimetype": "text/x-python",
   "name": "python",
   "nbconvert_exporter": "python",
   "pygments_lexer": "ipython3",
   "version": "3.12.4"
  }
 },
 "nbformat": 4,
 "nbformat_minor": 5
}
